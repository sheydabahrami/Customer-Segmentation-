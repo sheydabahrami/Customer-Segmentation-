{
 "cells": [
  {
   "cell_type": "code",
   "execution_count": null,
   "metadata": {},
   "outputs": [],
   "source": []
  },
  {
   "cell_type": "markdown",
   "metadata": {},
   "source": []
  },
  {
   "cell_type": "markdown",
   "metadata": {},
   "source": [
    "### Use cases of Machine Learning in Marketing\n",
    "    Customer Segmentation \n",
    "    Price Optimization\n",
    "    Personalization\n",
    "    Customer Lifetime Value\n"
   ]
  },
  {
   "cell_type": "markdown",
   "metadata": {},
   "source": [
    "##### Customer segmentation \n",
    "    Helps organizations know and understand their customers\n",
    "    Creating customer personas and mapping customers to personas\n",
    "    ML can look at customer characteristics, behavior and identify patterns\n",
    "    Use algorithms to group customers based on similar attributes or characteristics\n",
    "##### Price Optimization (there is an important concept named price elasticity of demand: the degree to which the number of products sold changes when the product's price changes: )\n",
    "    Need to consider a number of factors while assigning prices:\n",
    "    Competition\n",
    "    Market positioning\n",
    "    Production costs\n",
    "    Distribution costs\n",
    "##### Objective of price optimization\n",
    "    Understanding the price elasticity of demand\n",
    "    Finding the best price of a product given goals\n",
    "##### Personalization\n",
    "    Implementation of strategies by which companies deliver individualized content to recipients, personalization technologies are as follows:\n",
    "    Wisdom of the crowd\n",
    "    Semantic understanding\n",
    "    Segmentation and targeting\n",
    "    1:1 Personalization\n",
    "##### Customer lifetime value\n",
    "    Recency: when was the costumers last order\n",
    "    Frequency: how often do the customers buy on the platform\n",
    "    Monetary: how much do the customer spend on the platform\n",
    "two models always are used: 1) probabilistic (Pareto/Negative Binomial Distribution/Beta-geometric/Negative Binomial Distribution\n",
    ") models 2) ML models (linear regression, SVR, deep learning regressors)\n",
    "\n",
    "\n",
    "\n",
    "\n",
    "\n",
    "\n"
   ]
  }
 ],
 "metadata": {
  "interpreter": {
   "hash": "b90776be2c57f72028669c84b7e1a9ce80ccfac1d8e7f8966ec485b1a61088ac"
  },
  "kernelspec": {
   "display_name": "Python 3.9.7 ('kt')",
   "language": "python",
   "name": "python3"
  },
  "language_info": {
   "name": "python",
   "version": "3.9.7"
  },
  "orig_nbformat": 4
 },
 "nbformat": 4,
 "nbformat_minor": 2
}
